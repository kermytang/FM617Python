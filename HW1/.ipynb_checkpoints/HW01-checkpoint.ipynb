{
 "cells": [
  {
   "cell_type": "markdown",
   "metadata": {},
   "source": [
    "# HW01\n",
    "\n",
    "## 這個作業主要的目的是希望同學們了解善用模組跟套件可以很容易取得問題的快速解。"
   ]
  },
  {
   "cell_type": "markdown",
   "metadata": {},
   "source": [
    "## Q1. 請使用 python 讀入 Nasdaq 公司資訊！\n",
    "\n",
    "提示：\n",
    "1. 請先找到 Nasdaq Company List 的 .csv 檔的網址。\n",
    "2. 使用 pandas 套件的 read_csv 函式來讀入 .csv 檔。"
   ]
  },
  {
   "cell_type": "code",
   "execution_count": 12,
   "metadata": {},
   "outputs": [
    {
     "data": {
      "text/html": [
       "<div>\n",
       "<style>\n",
       "    .dataframe thead tr:only-child th {\n",
       "        text-align: right;\n",
       "    }\n",
       "\n",
       "    .dataframe thead th {\n",
       "        text-align: left;\n",
       "    }\n",
       "\n",
       "    .dataframe tbody tr th {\n",
       "        vertical-align: top;\n",
       "    }\n",
       "</style>\n",
       "<table border=\"1\" class=\"dataframe\">\n",
       "  <thead>\n",
       "    <tr style=\"text-align: right;\">\n",
       "      <th></th>\n",
       "      <th>Symbol</th>\n",
       "      <th>Name</th>\n",
       "      <th>LastSale</th>\n",
       "      <th>MarketCap</th>\n",
       "      <th>ADR TSO</th>\n",
       "      <th>IPOyear</th>\n",
       "      <th>Sector</th>\n",
       "      <th>Industry</th>\n",
       "      <th>Summary Quote</th>\n",
       "      <th>Unnamed: 9</th>\n",
       "    </tr>\n",
       "  </thead>\n",
       "  <tbody>\n",
       "    <tr>\n",
       "      <th>0</th>\n",
       "      <td>PIH</td>\n",
       "      <td>1347 Property Insurance Holdings, Inc.</td>\n",
       "      <td>7.175</td>\n",
       "      <td>4.273980e+07</td>\n",
       "      <td>n/a</td>\n",
       "      <td>2014</td>\n",
       "      <td>Finance</td>\n",
       "      <td>Property-Casualty Insurers</td>\n",
       "      <td>http://www.nasdaq.com/symbol/pih</td>\n",
       "      <td>NaN</td>\n",
       "    </tr>\n",
       "    <tr>\n",
       "      <th>1</th>\n",
       "      <td>TURN</td>\n",
       "      <td>180 Degree Capital Corp.</td>\n",
       "      <td>2.03</td>\n",
       "      <td>6.317677e+07</td>\n",
       "      <td>n/a</td>\n",
       "      <td>n/a</td>\n",
       "      <td>Finance</td>\n",
       "      <td>Finance/Investors Services</td>\n",
       "      <td>http://www.nasdaq.com/symbol/turn</td>\n",
       "      <td>NaN</td>\n",
       "    </tr>\n",
       "    <tr>\n",
       "      <th>2</th>\n",
       "      <td>FLWS</td>\n",
       "      <td>1-800 FLOWERS.COM, Inc.</td>\n",
       "      <td>9.45</td>\n",
       "      <td>6.103302e+08</td>\n",
       "      <td>n/a</td>\n",
       "      <td>1999</td>\n",
       "      <td>Consumer Services</td>\n",
       "      <td>Other Specialty Stores</td>\n",
       "      <td>http://www.nasdaq.com/symbol/flws</td>\n",
       "      <td>NaN</td>\n",
       "    </tr>\n",
       "    <tr>\n",
       "      <th>3</th>\n",
       "      <td>FCCY</td>\n",
       "      <td>1st Constitution Bancorp (NJ)</td>\n",
       "      <td>18</td>\n",
       "      <td>1.452521e+08</td>\n",
       "      <td>n/a</td>\n",
       "      <td>n/a</td>\n",
       "      <td>Finance</td>\n",
       "      <td>Savings Institutions</td>\n",
       "      <td>http://www.nasdaq.com/symbol/fccy</td>\n",
       "      <td>NaN</td>\n",
       "    </tr>\n",
       "    <tr>\n",
       "      <th>4</th>\n",
       "      <td>SRCE</td>\n",
       "      <td>1st Source Corporation</td>\n",
       "      <td>50.87</td>\n",
       "      <td>1.319371e+09</td>\n",
       "      <td>n/a</td>\n",
       "      <td>n/a</td>\n",
       "      <td>Finance</td>\n",
       "      <td>Major Banks</td>\n",
       "      <td>http://www.nasdaq.com/symbol/srce</td>\n",
       "      <td>NaN</td>\n",
       "    </tr>\n",
       "    <tr>\n",
       "      <th>5</th>\n",
       "      <td>VNET</td>\n",
       "      <td>21Vianet Group, Inc.</td>\n",
       "      <td>7.145</td>\n",
       "      <td>4.264981e+08</td>\n",
       "      <td>59691833</td>\n",
       "      <td>2011</td>\n",
       "      <td>Technology</td>\n",
       "      <td>Computer Software: Programming, Data Processing</td>\n",
       "      <td>http://www.nasdaq.com/symbol/vnet</td>\n",
       "      <td>NaN</td>\n",
       "    </tr>\n",
       "    <tr>\n",
       "      <th>6</th>\n",
       "      <td>TWOU</td>\n",
       "      <td>2U, Inc.</td>\n",
       "      <td>63.89</td>\n",
       "      <td>3.321066e+09</td>\n",
       "      <td>n/a</td>\n",
       "      <td>2014</td>\n",
       "      <td>Technology</td>\n",
       "      <td>Computer Software: Prepackaged Software</td>\n",
       "      <td>http://www.nasdaq.com/symbol/twou</td>\n",
       "      <td>NaN</td>\n",
       "    </tr>\n",
       "    <tr>\n",
       "      <th>7</th>\n",
       "      <td>JOBS</td>\n",
       "      <td>51job, Inc.</td>\n",
       "      <td>61.28</td>\n",
       "      <td>2.254698e+09</td>\n",
       "      <td>36793371</td>\n",
       "      <td>2004</td>\n",
       "      <td>Technology</td>\n",
       "      <td>Diversified Commercial Services</td>\n",
       "      <td>http://www.nasdaq.com/symbol/jobs</td>\n",
       "      <td>NaN</td>\n",
       "    </tr>\n",
       "    <tr>\n",
       "      <th>8</th>\n",
       "      <td>CAFD</td>\n",
       "      <td>8point3 Energy Partners LP</td>\n",
       "      <td>15.36</td>\n",
       "      <td>1.214745e+09</td>\n",
       "      <td>n/a</td>\n",
       "      <td>2015</td>\n",
       "      <td>Public Utilities</td>\n",
       "      <td>Electric Utilities: Central</td>\n",
       "      <td>http://www.nasdaq.com/symbol/cafd</td>\n",
       "      <td>NaN</td>\n",
       "    </tr>\n",
       "    <tr>\n",
       "      <th>9</th>\n",
       "      <td>EGHT</td>\n",
       "      <td>8x8 Inc</td>\n",
       "      <td>13.9</td>\n",
       "      <td>1.276419e+09</td>\n",
       "      <td>n/a</td>\n",
       "      <td>n/a</td>\n",
       "      <td>Public Utilities</td>\n",
       "      <td>Telecommunications Equipment</td>\n",
       "      <td>http://www.nasdaq.com/symbol/eght</td>\n",
       "      <td>NaN</td>\n",
       "    </tr>\n",
       "  </tbody>\n",
       "</table>\n",
       "</div>"
      ],
      "text/plain": [
       "  Symbol                                    Name LastSale     MarketCap  \\\n",
       "0    PIH  1347 Property Insurance Holdings, Inc.    7.175  4.273980e+07   \n",
       "1   TURN                180 Degree Capital Corp.     2.03  6.317677e+07   \n",
       "2   FLWS                 1-800 FLOWERS.COM, Inc.     9.45  6.103302e+08   \n",
       "3   FCCY           1st Constitution Bancorp (NJ)       18  1.452521e+08   \n",
       "4   SRCE                  1st Source Corporation    50.87  1.319371e+09   \n",
       "5   VNET                    21Vianet Group, Inc.    7.145  4.264981e+08   \n",
       "6   TWOU                                2U, Inc.    63.89  3.321066e+09   \n",
       "7   JOBS                             51job, Inc.    61.28  2.254698e+09   \n",
       "8   CAFD              8point3 Energy Partners LP    15.36  1.214745e+09   \n",
       "9   EGHT                                 8x8 Inc     13.9  1.276419e+09   \n",
       "\n",
       "    ADR TSO IPOyear             Sector  \\\n",
       "0       n/a    2014            Finance   \n",
       "1       n/a     n/a            Finance   \n",
       "2       n/a    1999  Consumer Services   \n",
       "3       n/a     n/a            Finance   \n",
       "4       n/a     n/a            Finance   \n",
       "5  59691833    2011         Technology   \n",
       "6       n/a    2014         Technology   \n",
       "7  36793371    2004         Technology   \n",
       "8       n/a    2015   Public Utilities   \n",
       "9       n/a     n/a   Public Utilities   \n",
       "\n",
       "                                          Industry  \\\n",
       "0                       Property-Casualty Insurers   \n",
       "1                       Finance/Investors Services   \n",
       "2                           Other Specialty Stores   \n",
       "3                             Savings Institutions   \n",
       "4                                      Major Banks   \n",
       "5  Computer Software: Programming, Data Processing   \n",
       "6          Computer Software: Prepackaged Software   \n",
       "7                  Diversified Commercial Services   \n",
       "8                      Electric Utilities: Central   \n",
       "9                     Telecommunications Equipment   \n",
       "\n",
       "                       Summary Quote  Unnamed: 9  \n",
       "0   http://www.nasdaq.com/symbol/pih         NaN  \n",
       "1  http://www.nasdaq.com/symbol/turn         NaN  \n",
       "2  http://www.nasdaq.com/symbol/flws         NaN  \n",
       "3  http://www.nasdaq.com/symbol/fccy         NaN  \n",
       "4  http://www.nasdaq.com/symbol/srce         NaN  \n",
       "5  http://www.nasdaq.com/symbol/vnet         NaN  \n",
       "6  http://www.nasdaq.com/symbol/twou         NaN  \n",
       "7  http://www.nasdaq.com/symbol/jobs         NaN  \n",
       "8  http://www.nasdaq.com/symbol/cafd         NaN  \n",
       "9  http://www.nasdaq.com/symbol/eght         NaN  "
      ]
     },
     "execution_count": 12,
     "metadata": {},
     "output_type": "execute_result"
    }
   ],
   "source": [
    "import pandas as pd\n",
    "url=\"http://www.nasdaq.com/screening/companies-by-industry.aspx?exchange=NASDAQ&render=download\"\n",
    "df=pd.read_csv(url)\n",
    "df.head(10)"
   ]
  },
  {
   "cell_type": "markdown",
   "metadata": {},
   "source": [
    "## Q2. 請使用 python 畫中山大學管理學院周邊地圖！\n",
    "\n",
    "提示：\n",
    "\n",
    "1. 使用 geocoder 套件來找出地址的 GPS 座標。\n",
    "2. 使用 folium 套件來顯示地圖。"
   ]
  },
  {
   "cell_type": "code",
   "execution_count": 26,
   "metadata": {},
   "outputs": [
    {
     "data": {
      "text/html": [
       "<div style=\"width:100%;\"><div style=\"position:relative;width:100%;height:0;padding-bottom:60%;\"><iframe src=\"data:text/html;charset=utf-8;base64,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\" style=\"position:absolute;width:100%;height:100%;left:0;top:0;border:none !important;\" allowfullscreen webkitallowfullscreen mozallowfullscreen></iframe></div></div>"
      ],
      "text/plain": [
       "<folium.folium.Map at 0x238bab4a320>"
      ]
     },
     "execution_count": 26,
     "metadata": {},
     "output_type": "execute_result"
    }
   ],
   "source": [
    "import geocoder\n",
    "import folium\n",
    "location=geocoder.google(\"中山大學管理學院\").latlng\n",
    "folium.Map(location=location,zoom_start=25)"
   ]
  },
  {
   "cell_type": "markdown",
   "metadata": {},
   "source": [
    "## Q3. 請使用 python 將新聞中可能的關鍵詞萃取出來！ (Bonus)\n",
    "\n",
    "提示：\n",
    "\n",
    "1. 使用老師提供的 util.py 來擷取鉅亨網上特定新聞的內容。\n",
    "2. 使用 jieba 套件來擷取關鍵詞。"
   ]
  },
  {
   "cell_type": "code",
   "execution_count": 13,
   "metadata": {},
   "outputs": [
    {
     "name": "stdout",
     "output_type": "stream",
     "text": [
      "股王/ 大立光/  / (/ 3008/ -/ TW/ )/  / 今/  / (/ 5/ )/  / 日/ 公布/  / 10/  / 月營/ 收以/  / 56.13/  / 億元創/  / 23/  / 個/ 月/ 來/ 新高/ ，/ 年增/  / 10.66%/ ，/ 月/ 增/  / 3.14%/ ，/ 累計前/  / 10/  / 月/ 營收/  / 426.53/  / 億元/ ，/ 年增/  / 13.13%/ ，/ 大立光/ 預估/  / 11/  / 月/ 營收/ 應維持/ 在/  / 10/  / 月/ 的/ 水準/ 。/ \n",
      "/ 以大立光/  / 10/  / 月/ 的/ 出貨/ 結構/ 來/ 看/ ，/ 1000/  / 萬畫素/ 以上/ 鏡頭/ 占/  / 70/ -/ 80%/ ，/ 800/  / 萬畫素/ 占/  / 10/ -/ 20%/ ，/ 500/  / 萬畫素/ 占/  / 10%/  / 以下/ ，/ 其他/ 占/  / 10%/  / 以下/ 。/ \n",
      "/ 在/ 蘋果/  / iPhone/  / X/  / 在/  / 11/  / 月/  / 3/  / 日/ 正式/ 上市/ ，/ 在/ 全球/ 造成/ 搶購/ 的/ 排隊/ 人潮/ 同時/ ，/ 證券/ 分析/ 師黃漢成/ 對/ 於/ 大立光/  / 10/  / 月/ 的/ 營收表現/ 及/  / 11/  / 月業績/ 預估/ 表示/ 「/ 中性/ 」/ 的/ 看法/ ，/ 甚至/ 不/ 排除/ 在/ 明/  / (/ 6/ )/  / 日台/ 股開盤/ 對/ 於/ 大立光/ 股價/ 形成/ 失望/ 性/ 的/ 賣壓/ 。/ \n",
      "/ 雖然/ 大立/ 光台/ 中/ 精密/ 機械/ 園區/ 的/ 二廠/ 已/ 逐步/ 投入/ 生產/ ，/ 但/ 目前/ 大立光/ 對/ 於/  / 10/  / 月/ 的/ 生產良率/ 統計/ 顯示/ 仍/ 與/  / 9/  / 月/ 狀況/ 無太大/ 拉升/ ，/ 造成/ 生產及/ 出貨/ 狀況/ 不順/ ；/ 雖然/  / 10/  / 月/ 營收/ 較/  / 9/  / 月/ 成長/  / 3.14%/ ，/ 與/ 該/ 公司/ 執行長/ 林/ 恩平/ 在/ 日前/ 法人/ 說/ 明會/ 所/ 提出/ 的/ 預估/ 相符/ ，/ 但/ 目前/ 大立光/ 評估/  / 11/  / 月/ 營收/ 與/  / 10/  / 月/ 差異/ 不大/ 。/ \n",
      "/ 事實/ 上/ ，/ 大立光/  / 10/  / 月/ 營收/ 較/  / 9/  / 月/ 小幅/ 成長/ ，/ 與/ 台/ 郡/  / (/ 6269/ -/ TW/ )/ 、/ 臻/ 鼎/  / (/ 4958/ -/ TW/ )/  / 等/ 蘋果/ 重要/ 供應/ 鏈廠/ 商所/ 提出/  / 10/  / 月/ 營收/ 小幅/ 月/ 成長/ 幅度/ 相符/ ，/ 而台/ 郡/ 評估/ ，/ 在/ 依/ 客戶/ 端的/ 訂單/ 預估/ 數字來/ 看/ ，/ 在/ 第/  / 4/  / 季單/ 月/ 營收/ 也/ 不會/ 快速/ 拉升/ 形成/ 高峰期/ 現象/ ，/ 僅為/ 以/ 「/ 高原期/ 」/ 型態/ 顯現/ 。/ \n",
      "/ 證券/ 分析/ 師張/ 陳/ 浩/ 指出/ ，/ 大立光/ 對/ 於/  / 11/  / 月/ 營收/ 的/ 預估/ 略低/ 於/ 預期/ ，/ 且/ 大立光/ 股價/ 已/ 位居/ 高檔/ ，/ 可能/ 在/ 明天/ 大立光/ 的/ 股價/ 造成/ 衝擊/ ，/ 但/ 在/ 上/ 周六/ 早晨/ 美國/ 蘋果/ 股價/ 收盤/ 大漲/  / 2.61%/ ，/ 股價以/  / 172.5/  / 美元/ 的/ 創/ 新高/ 貨作/ 收同/ 時/ ，/ 可望/ 減緩/ 部分/ 失望/ 性/ 的/ 賣壓/ 。/ \n",
      "/ 上周五/ 的/ 大立/ 光股/ 價受/ 蘋果/  / iPhone/  / X/  / 開賣題/ 材激勵/ 收盤/ 股價大漲/  / 3.64%/  / 或/  / 210/  / 元/ ，/ 以/  / 5985/  / 元作收/ 。/ 成交量/ 放大/ 到/  / 587/  / 張/ ，/ 較前/ 一/ 交易日/ 成交量/  / 164/  / 張/ 大增/  / 2.57/  / 倍/ ，/ 張陳浩/ 指出/ ，/ 這/ 其中/ 有/ 部分/ 買盤/ 在/ 於/ 預期/ 大立光/  / 10/  / 月/ 營收/ 快速/ 走高/ 且/  / 11/  / 月/ 還要/ 大幅/ 向上/ ，/ 但/ 目前/ 看來/ ，/ 可能/ 在/ 明天/ 開盤/ 立即/ 形成/ 失望/ 性/ 的/ 賣壓/ 出籠/ 。/ \n",
      "/ 大立光/ 日前/ 召開法/ 說/ 會/ 中/ ，/ 已/ 公布/ 第/  / 3/  / 季單/ 季營收/  / 149.18/  / 億元/ ，/ 營業/ 毛利率/  / 67.9%/ ，/ 略/ 高/ 於/ 第/  / 2/  / 季/ 的/  / 66.4%/ ，/ 與/ 去年同期/ 則/ 持平/ ，/ 稅後純益/  / 77.69/  / 億元/ ，/ 季增率/  / 64.8%/ ，/ 年增率/  / 11.6%/ ；/ 每股/ 稅後純益/  / 57.93/  / 元/ ，/ 優/ 於/ 第/  / 2/  / 季/ 的/  / 35.05/  / 元/ ，/ 也/ 高/ 於/ 去年同期/ 的/  / 51.89/  / 元/ 。/ 累計前/  / 3/  / 季營收/  / 370.39/  / 億元/ ，/ 年增率/  / 14%/ ，/ 毛利率/  / 68.3%/ ，/ 年增/  / 3/  / 個/ 百分/ ，/ 稅後純益/  / 173.68/  / 億元/ ，/ 年增率/  / 21.6%/ ，/ 每股/ 純益/  / 129.48/  / 元/ 。/ \n",
      "/ \n",
      "/ 大立/ 光日/  / K/  / 線圖/ \n",
      "/ \n",
      "/  / \n",
      "\n"
     ]
    }
   ],
   "source": [
    "import jieba\n",
    "import util\n",
    "\n",
    "url=\"https://news.cnyes.com/news/id/3955623\"\n",
    "article=util.get_news_article(url)\n",
    "a=jieba.cut(article,cut_all=False)\n",
    "b=print(\"/ \".join(a))  "
   ]
  },
  {
   "cell_type": "code",
   "execution_count": 24,
   "metadata": {},
   "outputs": [
    {
     "data": {
      "text/plain": [
       "[('大立光', 0.4718987172197368),\n",
       " ('10', 0.4718987172197368),\n",
       " ('營收', 0.3539240379148026),\n",
       " ('11', 0.2359493586098684),\n",
       " ('億元', 0.19662446550822366),\n",
       " ('預估', 0.19662446550822366),\n",
       " ('蘋果', 0.15729957240657894),\n",
       " ('股價', 0.15729957240657894),\n",
       " ('年增率', 0.13033747175723684),\n",
       " ('TW', 0.1179746793049342)]"
      ]
     },
     "execution_count": 24,
     "metadata": {},
     "output_type": "execute_result"
    }
   ],
   "source": [
    "import jieba.analyse\n",
    "jieba.analyse.extract_tags(article, topK=10, withWeight=True, allowPOS=())"
   ]
  },
  {
   "cell_type": "code",
   "execution_count": null,
   "metadata": {
    "collapsed": true
   },
   "outputs": [],
   "source": []
  },
  {
   "cell_type": "code",
   "execution_count": null,
   "metadata": {
    "collapsed": true
   },
   "outputs": [],
   "source": []
  },
  {
   "cell_type": "code",
   "execution_count": null,
   "metadata": {
    "collapsed": true
   },
   "outputs": [],
   "source": []
  }
 ],
 "metadata": {
  "kernelspec": {
   "display_name": "Python 3",
   "language": "python",
   "name": "python3"
  },
  "language_info": {
   "codemirror_mode": {
    "name": "ipython",
    "version": 3
   },
   "file_extension": ".py",
   "mimetype": "text/x-python",
   "name": "python",
   "nbconvert_exporter": "python",
   "pygments_lexer": "ipython3",
   "version": "3.6.2"
  }
 },
 "nbformat": 4,
 "nbformat_minor": 2
}
